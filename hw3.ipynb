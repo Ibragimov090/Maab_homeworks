{
 "cells": [
  {
   "cell_type": "code",
   "execution_count": 7,
   "metadata": {},
   "outputs": [
    {
     "name": "stdout",
     "output_type": "stream",
     "text": [
      "Before\n",
      "1\n",
      "2\n",
      "001\n",
      "After\n",
      "2\n",
      "1\n",
      "002\n",
      "After\n",
      "1\n",
      "2\n"
     ]
    }
   ],
   "source": [
    "a = int(input('Enter value for a: '))\n",
    "b = int(input('Enter value for b: '))\n",
    "\n",
    "print(\"Before\")\n",
    "print(a)\n",
    "print(b)\n",
    "\n",
    "#001\n",
    "c = a\n",
    "a = b\n",
    "b = c\n",
    "print('001')\n",
    "print(\"After\")\n",
    "print(a)\n",
    "print(b)\n"
   ]
  },
  {
   "cell_type": "code",
   "execution_count": 8,
   "metadata": {},
   "outputs": [
    {
     "name": "stdout",
     "output_type": "stream",
     "text": [
      "Before\n",
      "1\n",
      "2\n",
      "002\n",
      "After\n",
      "2\n",
      "1\n"
     ]
    }
   ],
   "source": [
    "a = int(input('Enter value for a: '))\n",
    "b = int(input('Enter value for b: '))\n",
    "\n",
    "print(\"Before\")\n",
    "print(a)\n",
    "print(b)\n",
    "\n",
    "#002\n",
    "print('002')\n",
    "(a,b)=(b,a)\n",
    "print(\"After\")\n",
    "print(a)\n",
    "print(b)"
   ]
  },
  {
   "cell_type": "code",
   "execution_count": 9,
   "metadata": {},
   "outputs": [
    {
     "name": "stdout",
     "output_type": "stream",
     "text": [
      "After\n",
      "a = 2\n",
      "b = 1\n"
     ]
    }
   ],
   "source": [
    "a = int(input('Enter value for a: '))\n",
    "b = int(input('Enter value for b: '))\n",
    "print(\"Before\")\n",
    "print(a)\n",
    "print(b)\n",
    "\n",
    "#003\n",
    "a = a + b\n",
    "b = a - b\n",
    "a = a - b\n",
    "\n",
    "print(\"After\")\n",
    "print(a)\n",
    "print(b)\n"
   ]
  }
 ],
 "metadata": {
  "kernelspec": {
   "display_name": "Python 3",
   "language": "python",
   "name": "python3"
  },
  "language_info": {
   "codemirror_mode": {
    "name": "ipython",
    "version": 3
   },
   "file_extension": ".py",
   "mimetype": "text/x-python",
   "name": "python",
   "nbconvert_exporter": "python",
   "pygments_lexer": "ipython3",
   "version": "3.11.4"
  }
 },
 "nbformat": 4,
 "nbformat_minor": 2
}
